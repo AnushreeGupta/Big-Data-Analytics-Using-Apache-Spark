{
 "cells": [
  {
   "cell_type": "markdown",
   "metadata": {},
   "source": [
    "# Activity 2: Analysis of Latin documents for word-co-occurrence"
   ]
  },
  {
   "cell_type": "code",
   "execution_count": null,
   "metadata": {
    "collapsed": true
   },
   "outputs": [],
   "source": [
    "import sys\n",
    "stdout = sys.stdout\n",
    "reload(sys)\n",
    "sys.setdefaultencoding('utf-8')\n",
    "sys.stdout = stdout"
   ]
  },
  {
   "cell_type": "code",
   "execution_count": 2,
   "metadata": {
    "collapsed": false
   },
   "outputs": [],
   "source": [
    "import re\n",
    "import time"
   ]
  },
  {
   "cell_type": "code",
   "execution_count": 3,
   "metadata": {
    "collapsed": false
   },
   "outputs": [],
   "source": [
    "from pyspark import SparkContext, SparkConf\n",
    "from itertools import combinations"
   ]
  },
  {
   "cell_type": "code",
   "execution_count": 4,
   "metadata": {
    "collapsed": false
   },
   "outputs": [],
   "source": [
    "conf = SparkConf().setAppName(\"Spark Word_Co\")\n",
    "sc = SparkContext(conf=conf)"
   ]
  },
  {
   "cell_type": "markdown",
   "metadata": {},
   "source": [
    "## Code to read lemma csv file"
   ]
  },
  {
   "cell_type": "code",
   "execution_count": 5,
   "metadata": {
    "collapsed": false
   },
   "outputs": [],
   "source": [
    "lemmas = {}"
   ]
  },
  {
   "cell_type": "code",
   "execution_count": 6,
   "metadata": {
    "collapsed": true
   },
   "outputs": [],
   "source": [
    "def f1(seq):\n",
    "   myset = set(seq)\n",
    "   return list(myset)"
   ]
  },
  {
   "cell_type": "code",
   "execution_count": 7,
   "metadata": {
    "collapsed": false
   },
   "outputs": [],
   "source": [
    "f = open('/home/hadoop/csv/la.lexicon.csv', 'r')\n",
    "while True:\n",
    "        line=f.readline()\n",
    "        if not line: break\n",
    "        global lemmas\n",
    "        word, crap, lemma = line.split(\",\")\n",
    "        if word.strip().lower() not in lemmas:\n",
    "            lemmas[word.lower().strip()] = list()\n",
    "            lemmas[word.lower().strip()].append(lemma.lower().strip())\n",
    "        lemmas[word.lower().strip()].append(lemma.lower().strip())\n",
    "        \n",
    "for key, value in lemmas.iteritems():\n",
    "    lemmas[key] = f1(value)"
   ]
  },
  {
   "cell_type": "markdown",
   "metadata": {},
   "source": [
    "## Function to reproduce lemmas for Bigrams"
   ]
  },
  {
   "cell_type": "code",
   "execution_count": null,
   "metadata": {
    "collapsed": true
   },
   "outputs": [],
   "source": [
    "def form_bigram_lemma(data):\n",
    "    words = data[0]\n",
    "    locations = data[1]\n",
    "    maha_result = []\n",
    "    lem_words0 = lemmas.get(re.sub('[^A-Za-z0-9]+', '', words[0])) \n",
    "    lem_words1 = lemmas.get(re.sub('[^A-Za-z0-9]+', '', words[1]))\n",
    "    maha_result.append(data)\n",
    "    \n",
    "    if lem_words0 is not None and lem_words1 is not None:\n",
    "        for word0 in lem_words0:\n",
    "            for word1 in lem_words1:\n",
    "                result = []\n",
    "                result.append(word0)\n",
    "                result.append(word1)\n",
    "                res = (result, locations)\n",
    "                maha_result.append(res)\n",
    "    return maha_result"
   ]
  },
  {
   "cell_type": "markdown",
   "metadata": {},
   "source": [
    "## Function to reproduce lemmas for Trigrams"
   ]
  },
  {
   "cell_type": "code",
   "execution_count": null,
   "metadata": {
    "collapsed": true
   },
   "outputs": [],
   "source": [
    "def form_trigram_lemma(data):\n",
    "    words = data[0]\n",
    "    locations = data[1]\n",
    "    maha_result = []\n",
    "    lem_words0 = lemmas.get(re.sub('[^A-Za-z0-9]+', '', words[0]))   \n",
    "    lem_words1 = lemmas.get(re.sub('[^A-Za-z0-9]+', '', words[1]))\n",
    "    lem_words2 = lemmas.get(re.sub('[^A-Za-z0-9]+', '', words[2]))\n",
    "    maha_result.append(data)\n",
    "    if lem_words0 is not None and lem_words1 is not None and lem_words2 is not None:\n",
    "        for word0 in lem_words0:\n",
    "            for word1 in lem_words1:\n",
    "                for word2 in lem_words2:\n",
    "                    result = []\n",
    "                    result.append(word0)\n",
    "                    result.append(word1)\n",
    "                    result.append(word2)\n",
    "                    res = (result, locations)\n",
    "                    maha_result.append(res)\n",
    "    return maha_result"
   ]
  },
  {
   "cell_type": "markdown",
   "metadata": {},
   "source": [
    "## Function to read a line and split into words"
   ]
  },
  {
   "cell_type": "code",
   "execution_count": 40,
   "metadata": {
    "collapsed": false
   },
   "outputs": [],
   "source": [
    "def parse(data):\n",
    "    t = data.split(\" \")\n",
    "    if len(t) > 1:\n",
    "        if len(data.split(\">\")) > 1 and len(data.split(\">\")) < 3:\n",
    "            loc, line = data.split(\">\")\n",
    "            line = (line).replace(\",\",\"\").replace(\".\",\"\").replace(\"-\",\"\").replace(\"\\t\",\"\").lower().encode('utf-8')   \n",
    "            line_list = line.split(\" \")\n",
    "            return loc.encode('utf-8'), line_list\n",
    "        else:\n",
    "            return \"\", \"\"\n",
    "    else:\n",
    "        return \"\", \"\""
   ]
  },
  {
   "cell_type": "code",
   "execution_count": 46,
   "metadata": {
    "collapsed": false
   },
   "outputs": [],
   "source": [
    "text_file = sc.textFile(\"/home/hadoop/input\")"
   ]
  },
  {
   "cell_type": "markdown",
   "metadata": {},
   "source": [
    "## For Bigrams"
   ]
  },
  {
   "cell_type": "code",
   "execution_count": null,
   "metadata": {
    "collapsed": false
   },
   "outputs": [],
   "source": [
    "timer = time.time()\n",
    "\n",
    "sentence = text_file.map(parse) \\\n",
    "            .flatMap(lambda x : [((x[1][i],x[1][j]),x[0]+\">\")  for i in range(0,len(x[1])) for j in range(i+1,len(x[1]))])\n",
    "      \n",
    "bigrams_freq = sentence.combineByKey(lambda v:[v],lambda x,y:x+[y],lambda x,y:x+y)\n",
    "\n",
    "lemma_bigrams = bigrams_freq.map(form_bigram_lemma)\n",
    "\n",
    "lemma_bigrams.saveAsTextFile(\"/home/hadoop/bioutput\")\n",
    "getTime = time.time()-timer\n",
    "print('\\n It took: ' + str(getTime)+ 'seconds to complete')"
   ]
  },
  {
   "cell_type": "markdown",
   "metadata": {
    "collapsed": false,
    "scrolled": true
   },
   "source": [
    "## For Trigrams"
   ]
  },
  {
   "cell_type": "code",
   "execution_count": null,
   "metadata": {
    "collapsed": false
   },
   "outputs": [],
   "source": [
    "timer = time.time()\n",
    "sentence = text_file.map(parse) \\\n",
    "    .flatMap(lambda x : [((x[1][i],x[1][j], x[1][j+1]),x[0]+\">\")  for i in range(0,len(x[1])) for j in range(i+1,len(x[1])-1)])\n",
    "\n",
    "trigrams_freq = sentence.combineByKey(lambda v:[v],lambda x,y:x+[y],lambda x,y:x+y) \n",
    "\n",
    "lemma_trigrams = trigrams_freq.map(form_trigram_lemma)\n",
    "\n",
    "lemma_trigrams.saveAsTextFile(\"/home/hadoop/trioutput\")\n",
    "\n",
    "getTime = time.time()-timer\n",
    "print('\\n It took: ' + str(getTime)+ 'seconds to complete')"
   ]
  },
  {
   "cell_type": "code",
   "execution_count": null,
   "metadata": {
    "collapsed": true
   },
   "outputs": [],
   "source": []
  }
 ],
 "metadata": {
  "kernelspec": {
   "display_name": "Python 2",
   "language": "python",
   "name": "python2"
  },
  "language_info": {
   "codemirror_mode": {
    "name": "ipython",
    "version": 2
   },
   "file_extension": ".py",
   "mimetype": "text/x-python",
   "name": "python",
   "nbconvert_exporter": "python",
   "pygments_lexer": "ipython2",
   "version": "2.7.13"
  }
 },
 "nbformat": 4,
 "nbformat_minor": 2
}
